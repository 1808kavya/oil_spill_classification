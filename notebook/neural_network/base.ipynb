{
 "cells": [
  {
   "cell_type": "markdown",
   "metadata": {},
   "source": [
    "# Indice\n",
    "* [Neural Network](#Neural-Network)\n",
    "\t* [Caso di studio](#Caso-di-studio)\n",
    "\t\t* [Codice utlizzato per la Neural Network applicato al  nostro caso di studio](#Codice-utlizzato-per-la-Neural-Network-applicato-al--nostro-caso-di-studio)\n",
    "\t\t\t* [Considerazioni](#Considerazioni)\n",
    "\t\t* [Codice utlizzato per la Deep Neural Network applicato al  nostro caso di studio](#Codice-utlizzato-per-la-Deep-Neural-Network-applicato-al--nostro-caso-di-studio-[5]%28#cite-DBLP:journals/corr/SimonyanZ14a%29)\n",
    "\t\t\t* [Considerazioni](#Considerazioni)\n"
   ]
  },
  {
   "cell_type": "markdown",
   "metadata": {
    "collapsed": true
   },
   "source": [
    "# Neural Network"
   ]
  },
  {
   "cell_type": "markdown",
   "metadata": {},
   "source": [
    "Le **Artificial Neural Network**, (_NN_) sono modelli matematici largamente utilizzati nel campo dell'**Intelligenza Artificiale** (_AI_) che permettono, a sistemi automatici, di compiere task complessi e articolati che dei semplici algoritmi (es. algoritmi sequenziali) non sarebbero in grado di portare a termine in modo rapido ed efficace.\n",
    "\n",
    "Le basi di questo metodo risalgono alla metà del XX secolo quando per la prima volta furono proposti algoritmi per l'apprendimento automatico. L'obiettivo era quello di creare _strutture_ in grado di modellare un determinato fenomeno e riproporne il comportamento in determinate condizioni.\n",
    "\n",
    "Il componente base di questa nuova struttura è il _**neurone**_. Con questo termine identifichiamo un nodo in grado di simulare il comportamento di un neurone biologico e di interconnettersi con altri neuroni al fine di creare una rete. Ogni nodo elabora i segnali ricevuti e trasmette il risultato a nodi successivi.\n",
    "\n",
    "Un tipico esempio di struttura base di queste reti è il **percettrone**:\n",
    "![Percettrone](./img/percetrone.png)\n",
    "\n",
    "Ogni singolo ingresso di questi nodi riceve informazioni che vengono elaborate. L'elaborazione, che in base agli ingressi può diventare complessa, si può pensare come singoli ingressi che vengono moltiplicati per un opportuno valore detto peso. Il risultato ottenuto delle moltiplicazioni viene sommato e se la somma supera una certa soglia il neurone attiva la sua uscita. Il peso serve a quantificare l'importanza di una interconnessione, infatti un ingresso molto importante avrà un peso elevato, mentre un ingresso poco utile all'elaborazione avrà un peso inferiore.\n",
    "\n",
    "Ponendo in cascata e combinando tra loro più più neuroni generiamo quella che definiamo _NN_.\n",
    "![ANN](./img/ann.png)\n",
    "\n",
    "L'utilizzo delle NN è tornato in uso dopo la reinvenzione dell’algoritmo di apprendimento chiamato back-propagation. Questo algoritmo infatti permette di modificare i pesi delle interconnessioni in modo tale che si minimizzi una certa funzione errore E.\n",
    "\n",
    "Con l'avvento di nuove metodologie come il **machine learning** e l'aumento della performance delle NN il campo dell'intelligenza artificiale è diventato tra i più importanti ambiti di ricerca nella computer scienze. Grazie a questo, i risultati e i campi applicativi acquisiscono, di giorno in giorno, maggiore interesse. Siamo così passati ad analizzare, attraverso le _NN_, problemi sempre più complessi: è l'avvento del **deep learning**.\n",
    "\n",
    "Nelle reti neurali classiche moderne è possibile riscontrare la presenza di qualche strato nascosto. Questi strati, denominati _hidden layers_, possono essere interpretati come il _cuore_ della rete stessa poiché sono quelli che si occupano di interpretare le features sottomesse alla rete.\n",
    "\n",
    "![NN](./img/simple_neural_network_header.jpg)\n",
    "\n",
    "Con il deep learning, invece, siamo rapportati a problemi più complessi: _dal riconoscimento ed interpretazione del linguaggio naturale fino alla visione artificiale_. Nei modelli deep ogni singolo stato nascosto potrebbe essere paragonato ad una piccola rete neurale classica: ponendone in cascata una all'altra possiamo ottenere modelli complessi per la gestione di task anche molto avanzati come ad esempio gli algoritmi di visione per l'_automotive_\n",
    "\n",
    "![deep](./img/deep.png)"
   ]
  },
  {
   "cell_type": "markdown",
   "metadata": {},
   "source": [
    "## Caso di studio"
   ]
  },
  {
   "cell_type": "markdown",
   "metadata": {},
   "source": [
    "### Codice utlizzato per la Neural Network applicato al  nostro caso di studio"
   ]
  },
  {
   "cell_type": "markdown",
   "metadata": {},
   "source": [
    "Il nostro dataset è composto da 3815 elementi ognuno dei quali è descritto attraverso 31 features. In questo primo approccio viene mostrato come addestrare una rete neurale classica sia attraverso la classica strarificazione per determinare dataset di training e test, sia con la cross validation."
   ]
  },
  {
   "cell_type": "code",
   "execution_count": null,
   "metadata": {},
   "outputs": [
    {
     "name": "stderr",
     "output_type": "stream",
     "text": [
      "Using TensorFlow backend.\n"
     ]
    }
   ],
   "source": [
    "# standard libraries\n",
    "import os\n",
    "import shutil\n",
    "import numpy as np\n",
    "from keras.callbacks import TensorBoard, EarlyStopping, ModelCheckpoint\n",
    "from keras.layers import Dense, Dropout\n",
    "# keras libraries\n",
    "from keras.models import Sequential\n",
    "from keras.models import load_model\n",
    "from keras.utils import np_utils\n",
    "from sklearn import preprocessing\n",
    "from sklearn.metrics import confusion_matrix, classification_report\n",
    "from sklearn.model_selection import KFold\n",
    "# sklearn libraries\n",
    "from sklearn.model_selection import train_test_split\n",
    "\n",
    "# convolutional network params\n",
    "path_dataset = './dataset/dataset_total.txt'  # datasetpath\n",
    "path_best = './best_model/'  # kfolds model path\n",
    "path_thebest = './thebetter_model/'  # bset models path\n",
    "\n",
    "# neural network params\n",
    "batch_size = 32  # training cases batch\n",
    "num_epochs = 500  # max number of epochs\n",
    "num_classes = 3  # number of class in dataset\n",
    "seed = 42  # base random seed\n",
    "n_splits = 10  # number of kfold\n",
    "n_input_layer = 31 # number of inputs layer"
   ]
  },
  {
   "cell_type": "markdown",
   "metadata": {},
   "source": [
    "Definiamo la funzione utile per il caricamento del dataset e il suo _splitting_ in porzione di test e di training. La strategia adottata è quella della stratificazione: creare due insiemi nei quali la \"_concentrazione_\" dei vari esempi sia equipollente. Ad esempio, se nel dataset di training ci sono il 30% dei campioni di tipo 1 il 40% di tipo 2 e 30% dei campioni di tipo 3, le stesse percentuali saranno adottate per il dataset di test."
   ]
  },
  {
   "cell_type": "code",
   "execution_count": 2,
   "metadata": {},
   "outputs": [],
   "source": [
    "def load_data_nn():\n",
    "    \"\"\"\n",
    "    generate dataset based on data in dataset folder\n",
    "    :return: train and test dataset based on stratification strategy\n",
    "    \"\"\"\n",
    "    dataset = np.loadtxt(path_dataset, delimiter='\\t')\n",
    "\n",
    "    y = np.array(np.ceil(dataset[:, -1])).astype(np.str)\n",
    "    X = np.array(dataset[:, :-1]).astype(np.float32)\n",
    "\n",
    "    x_train, x_test, y_train, y_test = train_test_split(X, y, test_size=0.30, random_state=seed, stratify=y)\n",
    "\n",
    "    scaler = preprocessing.StandardScaler().fit(x_train)\n",
    "\n",
    "    X_train = scaler.transform(x_train)\n",
    "    X_test = scaler.transform(x_test)\n",
    "\n",
    "    y_train = np.subtract(y_train.reshape((len(y_train), 1)).astype(np.float32), np.asarray(2.0))\n",
    "    y_test = np.subtract(y_test.reshape((len(y_test), 1)).astype(np.float32), np.asarray(2.0))\n",
    "\n",
    "    Y_train = np_utils.to_categorical(y_train, num_classes)\n",
    "    Y_test = np_utils.to_categorical(y_test, num_classes)\n",
    "    return X_train, X_test, Y_train, Y_test"
   ]
  },
  {
   "cell_type": "markdown",
   "metadata": {},
   "source": [
    "Definiamo la funzione che instanzierà il modello della nostra rete neurale. La struttura segue i seguenti parametri:\n",
    " - primo livello di ingresso con 31 neuroni. Idealmente sarebbero 1 per ciascuna features.\n",
    " - 4 livelli nascosti con lo stesso numero di neuroni e funzione di attivazione _elu_ [6](#cite-DBLP:journals/corr/ClevertUH15).\n",
    " - 4 livelli di _Dropout_, ciascuno dopo ogni livello nascosto.\n",
    " - ultimo livello con 3 neuroni e _softmax_ come funzione di attivazione.\n",
    " - la funzione di perdita da minimizzare è la _binary_crossentropy_ attraverso l'ottimizzazione _adadelta_.\n",
    " \n",
    " ![elu](https://smist08.files.wordpress.com/2017/10/screen-shot-2017-10-16-at-1-54-31-pm.png?w=300&h=205)"
   ]
  },
  {
   "cell_type": "code",
   "execution_count": 3,
   "metadata": {},
   "outputs": [],
   "source": [
    "def baseline_model():\n",
    "    \"\"\"\n",
    "    Definition of neural network base model\n",
    "    :return: model\n",
    "    \"\"\"\n",
    "    base_model = Sequential()\n",
    "    base_model.add(Dense(n_input_layer, activation='elu',  input_shape=(X_train.shape[1],)))\n",
    "    #hidden\n",
    "    base_model.add(Dense(31, activation='elu'))\n",
    "    base_model.add(Dropout(0.1))\n",
    "    base_model.add(Dense(31, activation='elu'))\n",
    "    base_model.add(Dropout(0.1))\n",
    "    base_model.add(Dense(31, activation='elu'))\n",
    "    base_model.add(Dropout(0.1))\n",
    "    base_model.add(Dense(31, activation='elu'))\n",
    "    base_model.add(Dropout(0.3))\n",
    "    base_model.add(Dense(3, activation='softmax'))\n",
    "    base_model.compile(optimizer='adadelta', loss='binary_crossentropy', metrics=['accuracy'])\n",
    "    return base_model"
   ]
  },
  {
   "cell_type": "markdown",
   "metadata": {},
   "source": [
    "Definiamo una funzione per la valutazione del modello migliore in uscita dal processo di addestramento in cross validation"
   ]
  },
  {
   "cell_type": "code",
   "execution_count": 4,
   "metadata": {
    "format": "row"
   },
   "outputs": [],
   "source": [
    "def evaluete_nn(X_test, Y_test, best_model=None, model=None):\n",
    "    \"\"\"\n",
    "    Evaluate best model after kfold training\n",
    "    :param X_test: example images to test best model after kfold\n",
    "    :param Y_test: labels matching truth to example\n",
    "    :param best_model: index which identify best model after kfold\n",
    "    :return: evaluation of best model trough dataset test and save it with loss and accuracy metrics\n",
    "    \"\"\"\n",
    "\n",
    "    # load best model and evaluate it with accuracy and loss\n",
    "    if(model==None):\n",
    "        print('Load best model and test it ')\n",
    "        model = load_model(path_best+'checkpoint-%d.h5' %(best_model))\n",
    "    score = model.evaluate(X_test, Y_test, verbose=0)  # evaluate model\n",
    "    y_predict = np.asarray(model.predict(X_test, verbose=0))\n",
    "    Y_predict = np.argmax(y_predict, axis=1)\n",
    "    y_test = np.argmax(Y_test, axis=1)\n",
    "    confmatrix = confusion_matrix(y_test, Y_predict)\n",
    "    print(\"\\nConfusion Matrix :\")\n",
    "    print(confmatrix)\n",
    "    class_names = [\"0\", \"1\", '2']\n",
    "    print(\"\\nMetrics => \", model.metrics_names, score)\n",
    "    print('\\nClassification Report : ')\n",
    "    print(classification_report(y_test, Y_predict, target_names=class_names))\n",
    "    # save model tested with loss and accuracy\n",
    "    model.save(path_thebest+'model-'+'{:.4f}'.format(score[0])+'-'+'{:.4f}'.format(score[1])+'.h5')"
   ]
  },
  {
   "cell_type": "code",
   "execution_count": 5,
   "metadata": {},
   "outputs": [
    {
     "name": "stdout",
     "output_type": "stream",
     "text": [
      "STARTING FITTING NEURAL NETWORK\n",
      "loading data .......\n",
      "\n",
      "train examples:\n",
      "2670\n",
      "test examples:\n",
      "1145\n"
     ]
    }
   ],
   "source": [
    "print('STARTING FITTING NEURAL NETWORK')\n",
    "if os.path.exists(path_best):\n",
    "    shutil.rmtree(path_best)\n",
    "os.mkdir(path_best)\n",
    "if not os.path.exists(path_thebest):\n",
    "    os.mkdir(path_thebest)\n",
    "\n",
    "print('loading data .......\\n')\n",
    "X_train, X_test, Y_train, Y_test = load_data_nn()\n",
    "\n",
    "print('train examples:')\n",
    "print(len(X_train))\n",
    "print('test examples:')\n",
    "print(len(X_test))\n"
   ]
  },
  {
   "cell_type": "markdown",
   "metadata": {},
   "source": [
    "Addestriamo inizialmente la rete neurale senza sfruttare la cross validation. Imponiamo un numero massimo di iterazioni pari a 500. Poiché, a causa dello sbilanciamento del dataset, incorreremo sicuramente in overfitting per gli elementi di appartenenza alla classe _low_risk_, imponiamo anche un **EarlyStopping**, ovvero un listener che monitora l'andamento della funzione di perdita che stiamo minimizzando e, se questa non dovesse avere variazioni pari ad un delta di _0.001_ per più di 10 iterazioni, blocchi l'addestramento della rete se necessario."
   ]
  },
  {
   "cell_type": "code",
   "execution_count": 6,
   "metadata": {
    "scrolled": true
   },
   "outputs": [
    {
     "name": "stdout",
     "output_type": "stream",
     "text": [
      "Epoch 1/500\n",
      "2670/2670 [==============================] - 0s 102us/step - loss: 0.4005 - acc: 0.8341\n",
      "Epoch 2/500\n",
      "2670/2670 [==============================] - 0s 55us/step - loss: 0.1504 - acc: 0.9546\n",
      "Epoch 3/500\n",
      "2670/2670 [==============================] - 0s 65us/step - loss: 0.1311 - acc: 0.9579\n",
      "Epoch 4/500\n",
      "2670/2670 [==============================] - 0s 89us/step - loss: 0.1267 - acc: 0.9546\n",
      "Epoch 5/500\n",
      "2670/2670 [==============================] - 0s 64us/step - loss: 0.1172 - acc: 0.9627\n",
      "Epoch 6/500\n",
      "2670/2670 [==============================] - 0s 56us/step - loss: 0.1160 - acc: 0.9593\n",
      "Epoch 7/500\n",
      "2670/2670 [==============================] - 0s 59us/step - loss: 0.1151 - acc: 0.9584\n",
      "Epoch 8/500\n",
      "2670/2670 [==============================] - 0s 60us/step - loss: 0.1110 - acc: 0.9576\n",
      "Epoch 9/500\n",
      "2670/2670 [==============================] - 0s 66us/step - loss: 0.1043 - acc: 0.9619\n",
      "Epoch 10/500\n",
      "2670/2670 [==============================] - 0s 57us/step - loss: 0.1103 - acc: 0.9597\n",
      "Epoch 11/500\n",
      "2670/2670 [==============================] - 0s 72us/step - loss: 0.1054 - acc: 0.9618\n",
      "Epoch 12/500\n",
      "2670/2670 [==============================] - 0s 65us/step - loss: 0.1078 - acc: 0.9587\n",
      "Epoch 13/500\n",
      "2670/2670 [==============================] - 0s 64us/step - loss: 0.1026 - acc: 0.9612\n",
      "Epoch 14/500\n",
      "2670/2670 [==============================] - 0s 62us/step - loss: 0.1057 - acc: 0.9612\n",
      "Epoch 15/500\n",
      "2670/2670 [==============================] - 0s 60us/step - loss: 0.1000 - acc: 0.9614\n",
      "Epoch 16/500\n",
      "2670/2670 [==============================] - 0s 60us/step - loss: 0.1028 - acc: 0.9625\n",
      "Epoch 17/500\n",
      "2670/2670 [==============================] - 0s 64us/step - loss: 0.0949 - acc: 0.9644\n",
      "Epoch 18/500\n",
      "2670/2670 [==============================] - 0s 63us/step - loss: 0.1005 - acc: 0.9629\n",
      "Epoch 19/500\n",
      "2670/2670 [==============================] - 0s 69us/step - loss: 0.0978 - acc: 0.9623\n",
      "Epoch 20/500\n",
      "2670/2670 [==============================] - 0s 60us/step - loss: 0.0959 - acc: 0.9644\n",
      "Epoch 21/500\n",
      "2670/2670 [==============================] - 0s 61us/step - loss: 0.0956 - acc: 0.9624\n",
      "Epoch 22/500\n",
      "2670/2670 [==============================] - 0s 64us/step - loss: 0.0980 - acc: 0.9644\n",
      "Epoch 23/500\n",
      "2670/2670 [==============================] - 0s 62us/step - loss: 0.0957 - acc: 0.9630\n",
      "Epoch 24/500\n",
      "2670/2670 [==============================] - 0s 63us/step - loss: 0.0974 - acc: 0.9622\n",
      "Epoch 25/500\n",
      "2670/2670 [==============================] - 0s 76us/step - loss: 0.0963 - acc: 0.9628\n",
      "Epoch 26/500\n",
      "2670/2670 [==============================] - 0s 67us/step - loss: 0.0978 - acc: 0.9617\n",
      "Epoch 27/500\n",
      "2670/2670 [==============================] - 0s 62us/step - loss: 0.0966 - acc: 0.9628\n",
      "Epoch 00027: early stopping\n",
      "acc: 96.77%\n"
     ]
    }
   ],
   "source": [
    "model = baseline_model()\n",
    "model.fit(X_train, Y_train, epochs=num_epochs, batch_size=batch_size, verbose=1,\n",
    "          callbacks=[TensorBoard(log_dir='./nn/tensorboard/'),\n",
    "                     EarlyStopping(monitor='loss', min_delta=0.001, patience=10, verbose=2, mode='min')])\n",
    "scores = model.evaluate(X_train, Y_train, verbose=2)\n",
    "print(\"%s: %.2f%%\" % (model.metrics_names[1], scores[1]*100))"
   ]
  },
  {
   "cell_type": "markdown",
   "metadata": {},
   "source": [
    "Valutiamo ora le performance del modello addestrato sul dataset di test"
   ]
  },
  {
   "cell_type": "code",
   "execution_count": 7,
   "metadata": {},
   "outputs": [
    {
     "name": "stdout",
     "output_type": "stream",
     "text": [
      "\n",
      "Confusion Matrix :\n",
      "[[1077    1    0]\n",
      " [  15    7    4]\n",
      " [  33    0    8]]\n",
      "\n",
      "Metrics =>  ['loss', 'acc'] [0.10068720200436605, 0.96826783345776357]\n",
      "\n",
      "Classification Report : \n",
      "             precision    recall  f1-score   support\n",
      "\n",
      "          0       0.96      1.00      0.98      1078\n",
      "          1       0.88      0.27      0.41        26\n",
      "          2       0.67      0.20      0.30        41\n",
      "\n",
      "avg / total       0.95      0.95      0.94      1145\n",
      "\n"
     ]
    }
   ],
   "source": [
    "evaluete_nn(X_test, Y_test, model=model)"
   ]
  },
  {
   "cell_type": "markdown",
   "metadata": {},
   "source": [
    "Passando all'utilizzo della cross validation, utilizziamo per la rete la stessa accortezza utilizzata in precedenza con **EarlyStopping**, in più imponiamo che, per ogni *k\\_fold*, venga salvato il miglior modello in un path specifico. Assieme al modello salviamo, per ciasun *best\\_model*, i rispettivi valori di _accurancy_ in un vettore (_**cvscores**_). In questo modo, alla fine dell'iterazione dei vari k_fold, possiamo selezionare il *better\\_model* da valutare con il dataset di test.\n",
    "Il risultato finale fornisce anche un valore di media per l'accuratezza valutata su tutti i modelli risultati migliori per ciascun k_fold."
   ]
  },
  {
   "cell_type": "code",
   "execution_count": 8,
   "metadata": {},
   "outputs": [
    {
     "name": "stdout",
     "output_type": "stream",
     "text": [
      "Epoch 00058: early stopping\n",
      "acc: 96.63%\n",
      "Epoch 00055: early stopping\n",
      "acc: 97.00%\n",
      "Epoch 00039: early stopping\n",
      "acc: 96.00%\n",
      "Epoch 00037: early stopping\n",
      "acc: 96.13%\n",
      "Epoch 00051: early stopping\n",
      "acc: 96.75%\n",
      "Epoch 00072: early stopping\n",
      "acc: 96.13%\n",
      "Epoch 00059: early stopping\n",
      "acc: 94.76%\n",
      "Epoch 00076: early stopping\n",
      "acc: 96.75%\n",
      "Epoch 00058: early stopping\n",
      "acc: 96.88%\n",
      "Epoch 00043: early stopping\n",
      "acc: 96.88%\n",
      "96.39% (+/- 0.64%)\n"
     ]
    }
   ],
   "source": [
    "# generation kfolds to cross validation process\n",
    "kfold = KFold(n_splits=n_splits, shuffle=True, random_state=seed)\n",
    "cvscores = []\n",
    "i = 0\n",
    "\n",
    "# start cross validation\n",
    "for train, test in kfold.split(X_train, Y_train):\n",
    "    model = baseline_model()\n",
    "    model.fit(X_train[train], Y_train[train], epochs=num_epochs, batch_size=batch_size, verbose=0,\n",
    "              callbacks=[TensorBoard(log_dir='./nn/tensorboard/'),\n",
    "                         ModelCheckpoint(path_best+'checkpoint-%d.h5' %(i), monitor='acc', verbose=0,\n",
    "                                         save_best_only=True, mode='max'),\n",
    "                         EarlyStopping(monitor='loss', min_delta=0.001, patience=10, verbose=2, mode='min')])\n",
    "    scores = model.evaluate(X_train[test], Y_train[test], verbose=2)\n",
    "    print(\"%s: %.2f%%\" % (model.metrics_names[1], scores[1]*100))\n",
    "    cvscores.append(scores[1] * 100)\n",
    "    i += 1\n",
    "print(\"%.2f%% (+/- %.2f%%)\" % (np.mean(cvscores), np.std(cvscores)))"
   ]
  },
  {
   "cell_type": "markdown",
   "metadata": {},
   "source": [
    "A questo punto è opportuno valutare il miglior modello tra quelli risultati ottimali per ciascun k_fold."
   ]
  },
  {
   "cell_type": "code",
   "execution_count": 9,
   "metadata": {
    "format": "row"
   },
   "outputs": [
    {
     "name": "stdout",
     "output_type": "stream",
     "text": [
      "Load best model and test it \n",
      "\n",
      "Confusion Matrix :\n",
      "[[1066    0   12]\n",
      " [  15    7    4]\n",
      " [  26    1   14]]\n",
      "\n",
      "Metrics =>  ['loss', 'acc'] [0.097809638701151558, 0.96535662974853187]\n",
      "\n",
      "Classification Report : \n",
      "             precision    recall  f1-score   support\n",
      "\n",
      "          0       0.96      0.99      0.98      1078\n",
      "          1       0.88      0.27      0.41        26\n",
      "          2       0.47      0.34      0.39        41\n",
      "\n",
      "avg / total       0.94      0.95      0.94      1145\n",
      "\n"
     ]
    }
   ],
   "source": [
    "# evaluate best model based on higher accuracy\n",
    "vect_max = np.argmax(cvscores)\n",
    "evaluete_nn(X_test, Y_test, best_model=vect_max)"
   ]
  },
  {
   "cell_type": "markdown",
   "metadata": {},
   "source": [
    "##### Considerazioni"
   ]
  },
  {
   "cell_type": "markdown",
   "metadata": {},
   "source": [
    "Analizzando le metriche base di entrambi i casi di addestramento, possiamo notare che gli andamenti sono pressoché uguali, con una precisione del 96%. Il dato che ci consente di percepire che l'addestramento effettuato con la cross validation sia in qualche modo migliore, ci viene fornito dal report dalla confusion matrix: nel primo caso, si nota chiaramente che il modello soffre di overfitting per la classe 0 e non ha ottimi riscontri per gli elementi di classe 2 (in questo caso ha una precisione al di sotto del 60%); mentre per la classe 1, nonostante una precisione molto alta, la recall è molto bassa addirittura sotto il 20%.\n",
    "\n",
    "Nel caso di addestramento con la tecnica della cross validazione, benché non possiamo dirci del tutto fuori dal fenomeno di overfitting, possiamo notare una migliore precisione per gli elementi di classe 1 e classe 2. In questo caso siamo oltre il valore di 80% percento per la classe 2, e di poco sotto il 90% per la classe 1. Anche in questo caso la recall per queste due classi è molto bassa, indice chiaro di una forte tendenza verso l'overfitting.\n",
    "\n",
    "L'utilizzo della cross validation, per evitare o attenuare il fenomeno di overfitting sul modello, è stato dettato dal voler rendere il modello il più vicino possibile al _mondo reale_. Infatti, avremmo potuto utilizzare tecniche di _**data augumentation**_ [7](#cite-DBLP:journals/corr/WongGSM16) per creare esempi _artificiali_ della classe 1 e della classe 2, avremmo però reso il modello fittizio e molto lontano dal caso reale nel quale dovrebbe agire."
   ]
  },
  {
   "cell_type": "markdown",
   "metadata": {},
   "source": [
    "### Codice utlizzato per la Deep Neural Network applicato al  nostro caso di studio [5](#cite-DBLP:journals/corr/SimonyanZ14a)"
   ]
  },
  {
   "cell_type": "markdown",
   "metadata": {},
   "source": [
    "Un altro approccio che abbiamo utilizzato è quello basato su tecniche di deep learning. In questo caso abbiamo sfruttato il dataset di immagini che ci è stato fornito. Attraverso i passaggi di _preprocessing_ visti in precedenza, abbiamo generato circa 6000 immagini binarie suddivise secondo le 3 categorie di pericolosità.\n",
    "\n",
    "Analizzando il risultato di questi step, abbiamo rilevato che alcuni esempi erano ripetuti in classi diverse, e quindi abbiamo proceduto ad una prima scrematura basata sulla somiglianza di alcune immagini. Dopo questo passaggio abbiamo ottenuto il dataset completo con circa 5000 esempi.\n",
    "\n",
    "Questa osservazione ci ha condotto a fare una riflessione circa la correttezza della classificazione proposta, e ci ha spinto ad effettuare una riassegnazione dei vari esempi rispetto alle classi di appartenenza con una rete non supervisionata.\n",
    "\n",
    "I test che mostreremo di seguito mostrano come addestrare una _**CNN**_ (convolutional neural network) nel nostro caso di studio.\n",
    "\n",
    "L'utilizzo di _CNN_ per affrontare problemi di _image vision_ è largamente documentata in letteratura, anche nel caso di immagini _SAR_ [1](#cite-7326627) [2](#cite-7326163) [3](#cite-KERAMITSOGLOU2006640). Nel nostro caso specifico, tuttavia, non sfruttiamo l'apporto radiometrico di tali immagini, ma ne sfruttiamo solo l'aspetto morfologico."
   ]
  },
  {
   "cell_type": "code",
   "execution_count": 5,
   "metadata": {},
   "outputs": [],
   "source": [
    "# base libraries\n",
    "import os\n",
    "import shutil\n",
    "import itertools\n",
    "\n",
    "import matplotlib.image as mpimg\n",
    "import matplotlib.cm as cm\n",
    "import matplotlib.pyplot as plt\n",
    "import numpy as np\n",
    "import numpy.ma as ma\n",
    "import skimage.measure\n",
    "from keras.callbacks import TensorBoard, EarlyStopping\n",
    "from keras.layers import Conv2D, MaxPooling2D, Dense, Dropout, Flatten, Activation\n",
    "# keras import\n",
    "from keras.models import Sequential\n",
    "from keras.models import load_model\n",
    "from keras.utils import np_utils\n",
    "from mpl_toolkits.axes_grid1 import make_axes_locatable\n",
    "from scipy import signal\n",
    "from sklearn.metrics import confusion_matrix, classification_report\n",
    "# sklearn import\n",
    "from sklearn.model_selection import train_test_split\n",
    "\n",
    "# path to save files\n",
    "path_dataset = './crop_r'  # dataset path\n",
    "path_model = './model/'  # path to save model\n",
    "path_board = './tensorboard'\n",
    "\n",
    "# convolutional network parmas\n",
    "batch_size = 64  # training cases batch\n",
    "num_epochs = 500  # max number of epochs\n",
    "kernel_size = 3  # kernel size dimension\n",
    "pool_size = 2  # max pooling size\n",
    "seed = 42  # base random seed\n",
    "\n",
    "# dataset image parameters\n",
    "height = 32\n",
    "width = 32\n",
    "depth = 1"
   ]
  },
  {
   "cell_type": "markdown",
   "metadata": {},
   "source": [
    "Defiamo la funzione *load\\_data\\_cnn* che ci consente di generare il dataset di training e di test a partire dalle immagini presenti nel path indicato. In questo caso imponiamo che il 30% dell'intero dataset verrà sfruttato per il test. Anche in questo caso, come per il precedente, utilizziamo la tecnica della _stratificazione_ per generare i due dataset.\n",
    "\n",
    "Una volta generato i dataset di training e test basati sui _file path_ delle immagini, procediamo alla _risoluzione_ di questi path in modo da generare il training set ed il test set con le immagini. Per fare questo sfruttiamo il metodo *load\\_image*, in grado di restituire l'immagine associata ad uno specifico path ed effettuare il _reshape_ propedeutico per l'utilizzo nella nostra rete convoluzionale.\n",
    "\n",
    "Per questo tipo di classificazione è opportuno, sia per le label del training set che per il test set, sfruttare la tecnica del _one hot encoding_. Con questo tipo di processamento, le label, sono trasfomate in vettori di lunghezza _N_ (con _N_ pari al numero di classi) e riportano il valore _1_ rispetto all'indice della classe di appartenenza mentre negli altri casi i valori del vettore sono a _0_. Per applicare questa tecnica abbiamo rimappato le classi come segue:\n",
    " - classe 2 (low risk) ---------> classe 0\n",
    " - classe 3 (medium risk) ------> classe 1\n",
    " - classe 4 (high risk) --------> classe 2\n",
    " \n",
    "In questo modo un esempio appartenente alla _classe 3_, rimappato con la _classe 1_, avrà una label di uscita pari a `[0 1 0]`, mentre un esempio di alto pericolo, rimappato con la _classe 2_, avrà una label uguale a `[0 0 1]`.\n",
    " "
   ]
  },
  {
   "cell_type": "code",
   "execution_count": 6,
   "metadata": {},
   "outputs": [],
   "source": [
    "def load_data_cnn():\n",
    "\n",
    "    filenames, labels = generate_dataset(path_dataset)\n",
    "    x_train, x_test, y_train, y_test = train_test_split(filenames, labels, test_size=0.30, \n",
    "                                                        random_state=seed, stratify=labels)\n",
    "    X_train = np.asarray(load_image(x_train))\n",
    "    X_test = np.asarray(load_image(x_test))\n",
    "    num_classes = np.unique(y_train).shape[0]\n",
    "    Y_train = np_utils.to_categorical(y_train, num_classes)\n",
    "    Y_test = np_utils.to_categorical(y_test, num_classes)\n",
    "\n",
    "    return X_train, X_test, Y_train, Y_test\n",
    "\n",
    "def generate_dataset(base_path):\n",
    "    \"\"\"\n",
    "    produce a dataset for neural network from path\n",
    "    :param base_path: base path of dataset images\n",
    "    :return: two array with file name and labels\n",
    "    \"\"\"\n",
    "    filenames_array, labels_array = iterate_path(base_path)\n",
    "    return filenames_array, labels_array\n",
    "\n",
    "def iterate_path(path):\n",
    "    \"\"\"\n",
    "    iterate path and sub path to generate an two array of images and labels\n",
    "    :param path: base path to investigate\n",
    "    :return: two array of file names and labels\n",
    "    \"\"\"\n",
    "    filenames_array = []\n",
    "    labels_array = []\n",
    "    for root, dirs, files in os.walk(path):\n",
    "        for name in files:\n",
    "            filenames_array.append(os.path.join(root, name))\n",
    "            labels_array.append(int(os.path.basename(os.path.normpath(root))))\n",
    "    # labels_array = _one_hot_label(labels_array)\n",
    "    return filenames_array, labels_array\n",
    "\n",
    "def load_image(filenames):\n",
    "    \"\"\"\n",
    "    load images from and array of path\n",
    "    :param filenames: array of file names to load\n",
    "    :return: an array of images\n",
    "    \"\"\"\n",
    "    images = [*map(lambda x: np.asarray([read_image(x)]).reshape((32, 32, 1)), filenames)]\n",
    "    return images\n",
    "\n",
    "def read_image(filename):\n",
    "    \"\"\"\n",
    "    load image from disk\n",
    "    :param filename: path of images\n",
    "    :return: image match to file name path\n",
    "    \"\"\"\n",
    "    return mpimg.imread(filename)"
   ]
  },
  {
   "cell_type": "markdown",
   "metadata": {},
   "source": [
    "Prepariamo una funzione in grado di valutare il modello addestrato. Questa, una volta caricato il modello addestrato, effettuerà la predizione sugli esempi di test e ne calcolerà la bontà di tale classificazione, fornendoci come output la _confusion matrix_ e un report della classificazione."
   ]
  },
  {
   "cell_type": "code",
   "execution_count": 7,
   "metadata": {},
   "outputs": [],
   "source": [
    "def evaluete_cnn(X_test, Y_test):\n",
    "\n",
    "    model = load_model(path_model+'model.h5')\n",
    "\n",
    "    score = model.evaluate(X_test, Y_test, verbose=1)  # Evaluate the trained model on the test set!\n",
    "\n",
    "    y_predict = np.asarray(model.predict(X_test, verbose=0))\n",
    "    Y_predict = np.argmax(y_predict, axis=1)\n",
    "    y_test = np.argmax(Y_test, axis=1)\n",
    "    confmatrix = confusion_matrix(y_test, Y_predict)\n",
    "    print(\"\\n Confusion Matrix :\")\n",
    "    print(confmatrix)\n",
    "    class_names = [\"0\", \"1\", '2']\n",
    "\n",
    "    print(\"\\nMetrics => \", model.metrics_names, score)\n",
    "    print('\\nClassification Report : ')\n",
    "    print(classification_report(y_test, Y_predict, target_names=class_names))"
   ]
  },
  {
   "cell_type": "markdown",
   "metadata": {},
   "source": [
    "Definiamo ora il nostro modello. Abbiamo già anticipato che si tratta di una rete convoluzionale. Tipicamente questo tipo di configurazione prevede, per ogni strato nascosto, 3 livelli:\n",
    " 1. livello di convoluzione\n",
    " 2. livello di attivazione\n",
    " 3. livello di pooling\n",
    " \n",
    "![CNN_example](http://cs231n.github.io/assets/cnn/convnet.jpeg)\n",
    "\n",
    "L'ultimo strato è tipicamente un _fully connected_ in grado di effettuare una predizione circa l'appartenenza di un esempio ad una classe piuttosto che ad un'altra.\n",
    "\n",
    "Di seguito viene mostrato un esempio interattivo del livello di convoluzione. Abbiamo come input una matrice 5x5x3 alla quale è applicato, per ciascun livello, un padding +1 in modo da ottenere un volume di input pari a 7x7x3. A questo è applicata una convoluzione con due filtro di volume 3x3x3. La convoluzione è applicata con _stride_ pari a 2. Risulta facile calcolare la dimensionalità dell'uscita:\n",
    "\n",
    "\\begin{equation}\n",
    "\\frac{W−F+2P}{S}+1\n",
    "\\end{equation}\n",
    "\n",
    "Nel nostro caso:\n",
    "\n",
    "\\begin{equation}\n",
    "\\frac{5−3+2}{2}+1=3\n",
    "\\end{equation}\n",
    "\n",
    "In uscita avremo un volume pari a 3x3x2: la dimensione del filtro deriva dalla formula precedente, mentre la profondità è legata al numero di filtri."
   ]
  },
  {
   "cell_type": "code",
   "execution_count": 8,
   "metadata": {},
   "outputs": [
    {
     "data": {
      "text/html": [
       "<iframe src=\"http://cs231n.github.io/assets/conv-demo\" width=\"100%\" height=\"700px;\" style=\"border:none;\"></iframe>"
      ],
      "text/plain": [
       "<IPython.core.display.HTML object>"
      ]
     },
     "execution_count": 8,
     "metadata": {},
     "output_type": "execute_result"
    }
   ],
   "source": [
    "from IPython.display import display, HTML\n",
    "HTML('<iframe src=\"http://cs231n.github.io/assets/conv-demo\" width=\"100%\" height=\"700px;\" style=\"border:none;\"></iframe>')"
   ]
  },
  {
   "cell_type": "markdown",
   "metadata": {},
   "source": [
    "Il nostro modello prevede 2 livelli di convoluzione entrambi con funzione di attivazione _elu_ e *max\\_polling*. In cascata ad ogni livello di convoluzione abbiamo inserito un _dropout_ che rigetti il 25% dei casi in modo da rendere il modello meno prono all'overfitting e fornirgli un comportamento non lineare.\n",
    "\n",
    "In coda ai due livelli di convoluzione viene effettuato un _reshape_ prima di passare i dati a due livelli *fully_connected* per la predizione tramite funzione di attivazione _softmax_."
   ]
  },
  {
   "cell_type": "code",
   "execution_count": 9,
   "metadata": {},
   "outputs": [
    {
     "name": "stdout",
     "output_type": "stream",
     "text": [
      "_________________________________________________________________\n",
      "Layer (type)                 Output Shape              Param #   \n",
      "=================================================================\n",
      "conv1 (Conv2D)               (None, 32, 32, 32)        320       \n",
      "_________________________________________________________________\n",
      "activation_1 (Activation)    (None, 32, 32, 32)        0         \n",
      "_________________________________________________________________\n",
      "max_pooling2d_1 (MaxPooling2 (None, 16, 16, 32)        0         \n",
      "_________________________________________________________________\n",
      "dropout_1 (Dropout)          (None, 16, 16, 32)        0         \n",
      "_________________________________________________________________\n",
      "conv2d_1 (Conv2D)            (None, 16, 16, 64)        18496     \n",
      "_________________________________________________________________\n",
      "max_pooling2d_2 (MaxPooling2 (None, 8, 8, 64)          0         \n",
      "_________________________________________________________________\n",
      "dropout_2 (Dropout)          (None, 8, 8, 64)          0         \n",
      "_________________________________________________________________\n",
      "flatten_1 (Flatten)          (None, 4096)              0         \n",
      "_________________________________________________________________\n",
      "dense_1 (Dense)              (None, 1024)              4195328   \n",
      "_________________________________________________________________\n",
      "dropout_3 (Dropout)          (None, 1024)              0         \n",
      "_________________________________________________________________\n",
      "dense_2 (Dense)              (None, 3)                 3075      \n",
      "=================================================================\n",
      "Total params: 4,217,219\n",
      "Trainable params: 4,217,219\n",
      "Non-trainable params: 0\n",
      "_________________________________________________________________\n",
      "None\n"
     ]
    }
   ],
   "source": [
    "model = Sequential()\n",
    "conv_1 = Conv2D(32, kernel_size=(kernel_size, kernel_size), padding='same', input_shape=(height, width, depth),\n",
    "                name='conv1')\n",
    "model.add(conv_1)\n",
    "convout1 = Activation('elu')\n",
    "model.add(convout1)\n",
    "model.add(MaxPooling2D(pool_size=(pool_size, pool_size)))\n",
    "model.add(Dropout(0.25))\n",
    "model.add(Conv2D(64, kernel_size=(kernel_size, kernel_size), padding='same', activation='elu'))\n",
    "model.add(MaxPooling2D(pool_size=(pool_size, pool_size)))\n",
    "model.add(Dropout(0.25))\n",
    "model.add(Flatten())\n",
    "model.add(Dense(1024, activation='elu'))\n",
    "model.add(Dropout(0.4))\n",
    "model.add(Dense(3, activation='softmax'))\n",
    "\n",
    "\n",
    "# compile model\n",
    "model.compile(optimizer='adadelta',\n",
    "              loss='categorical_crossentropy',\n",
    "              metrics=['accuracy'])\n",
    "\n",
    "print(model.summary())"
   ]
  },
  {
   "cell_type": "code",
   "execution_count": 10,
   "metadata": {},
   "outputs": [
    {
     "name": "stdout",
     "output_type": "stream",
     "text": [
      "STARTING FITTING CONVOLUTIONAL DEEP NEURAL NETWORK\n",
      "loading data .......\n",
      "train examples:\n",
      "3690\n",
      "test examples:\n",
      "1582\n"
     ]
    }
   ],
   "source": [
    "print('STARTING FITTING CONVOLUTIONAL DEEP NEURAL NETWORK')\n",
    "if not os.path.exists(path_model):\n",
    "    os.mkdir(path_model)\n",
    "if os.path.exists(path_board):\n",
    "    shutil.rmtree(path_board)\n",
    "os.mkdir(path_board)\n",
    "\n",
    "print('loading data .......')\n",
    "X_train, X_test, Y_train, Y_test = load_data_cnn()\n",
    "\n",
    "print('train examples:')\n",
    "print(len(X_train))\n",
    "print('test examples:')\n",
    "print(len(X_test))"
   ]
  },
  {
   "cell_type": "markdown",
   "metadata": {},
   "source": [
    "Diamo inizio alla fase di training impostando anche in questo caso un **EarlyStopping** per evitare di stressare troppo il sitema verso l'overfitting."
   ]
  },
  {
   "cell_type": "code",
   "execution_count": 16,
   "metadata": {},
   "outputs": [
    {
     "name": "stdout",
     "output_type": "stream",
     "text": [
      "start .... \n",
      "Train on 3321 samples, validate on 369 samples\n",
      "Epoch 1/500\n",
      " - 19s - loss: 0.3150 - acc: 0.9021 - val_loss: 0.2685 - val_acc: 0.9241\n",
      "Epoch 2/500\n",
      " - 19s - loss: 0.2855 - acc: 0.9178 - val_loss: 0.2881 - val_acc: 0.9214\n",
      "Epoch 3/500\n",
      " - 19s - loss: 0.2727 - acc: 0.9172 - val_loss: 0.2520 - val_acc: 0.9214\n",
      "Epoch 4/500\n",
      " - 19s - loss: 0.2676 - acc: 0.9193 - val_loss: 0.2488 - val_acc: 0.9214\n",
      "Epoch 5/500\n",
      " - 19s - loss: 0.2538 - acc: 0.9196 - val_loss: 0.2938 - val_acc: 0.9024\n",
      "Epoch 6/500\n",
      " - 19s - loss: 0.2549 - acc: 0.9220 - val_loss: 0.2931 - val_acc: 0.9079\n",
      "Epoch 00006: early stopping\n",
      "Saving model\n"
     ]
    }
   ],
   "source": [
    "# STARTING FITTING\n",
    "print('start .... ')\n",
    "\n",
    "model.fit(X_train, Y_train, batch_size=batch_size, epochs=num_epochs, verbose=2, validation_split=0.1,\n",
    "          callbacks=[TensorBoard(log_dir='./deep/tensorboard/', histogram_freq=1, write_images=True,\n",
    "                                 write_grads=True, embeddings_layer_names=['conv1'], embeddings_freq=1),\n",
    "                     EarlyStopping(monitor='val_loss', min_delta=0.001, patience=2,\n",
    "                                   verbose=1, mode='auto')])\n",
    "\n",
    "# save current model\n",
    "print(\"Saving model\")\n",
    "model.save(path_model+'model.h5', overwrite=True)"
   ]
  },
  {
   "cell_type": "code",
   "execution_count": 17,
   "metadata": {},
   "outputs": [
    {
     "name": "stdout",
     "output_type": "stream",
     "text": [
      "1582/1582 [==============================] - 2s 1ms/step\n",
      "\n",
      " Confusion Matrix :\n",
      "[[1434    3   16]\n",
      " [  28    0    1]\n",
      " [  88    2   10]]\n",
      "\n",
      "Metrics =>  ['loss', 'acc'] [0.32986652598670402, 0.91276864713121453]\n",
      "\n",
      "Classification Report : \n",
      "             precision    recall  f1-score   support\n",
      "\n",
      "          0       0.93      0.99      0.96      1453\n",
      "          1       0.00      0.00      0.00        29\n",
      "          2       0.37      0.10      0.16       100\n",
      "\n",
      "avg / total       0.87      0.91      0.89      1582\n",
      "\n"
     ]
    }
   ],
   "source": [
    "# evaluete model over test set\n",
    "evaluete_cnn(X_test, Y_test)"
   ]
  },
  {
   "cell_type": "markdown",
   "metadata": {},
   "source": [
    "Pare evidente che la rete abbia un problema di overfitting verso gli elementi di classe 0. La confusion matrix ci mostra come la predizione per gli esempi di classe 1 è praticamente inefficace e il risultati per quelli di classe 2 sono comunque poco confortanti.\n",
    "\n",
    "Il problema del dataset, che avavamo già evidenziato in fase di preprocessing, influisce pesantemente sulle prestazioni della rete. A questo punto è lecito chiedersi: cosa succederebbe con un dataset meglio clusterizzato?"
   ]
  },
  {
   "cell_type": "code",
   "execution_count": 18,
   "metadata": {},
   "outputs": [
    {
     "name": "stdout",
     "output_type": "stream",
     "text": [
      "loading data .......\n",
      "train examples:\n",
      "1152\n",
      "test examples:\n",
      "494\n",
      "start .... \n",
      "Train on 1036 samples, validate on 116 samples\n",
      "Epoch 1/500\n",
      " - 9s - loss: 0.6651 - acc: 0.6959 - val_loss: 0.7055 - val_acc: 0.7069\n",
      "Epoch 2/500\n",
      " - 9s - loss: 0.4836 - acc: 0.7722 - val_loss: 0.7790 - val_acc: 0.6724\n",
      "Epoch 3/500\n",
      " - 8s - loss: 0.3124 - acc: 0.8755 - val_loss: 0.5005 - val_acc: 0.8362\n",
      "Epoch 4/500\n",
      " - 8s - loss: 0.3990 - acc: 0.8234 - val_loss: 0.5458 - val_acc: 0.7759\n",
      "Epoch 5/500\n",
      " - 9s - loss: 0.2071 - acc: 0.9373 - val_loss: 0.4562 - val_acc: 0.8621\n",
      "Epoch 6/500\n",
      " - 11s - loss: 0.2213 - acc: 0.9131 - val_loss: 0.4565 - val_acc: 0.9052\n",
      "Epoch 7/500\n",
      " - 11s - loss: 0.2827 - acc: 0.8755 - val_loss: 0.9216 - val_acc: 0.6983\n",
      "Epoch 00007: early stopping\n",
      "Saving model\n",
      "Evaluete model\n",
      "494/494 [==============================] - 1s 2ms/step\n",
      "\n",
      " Confusion Matrix :\n",
      "[[211  70   0]\n",
      " [  0 100  60]\n",
      " [  0   0  53]]\n",
      "\n",
      "Metrics =>  ['loss', 'acc'] [0.64496924900091612, 0.73684210453921484]\n",
      "\n",
      "Classification Report : \n",
      "             precision    recall  f1-score   support\n",
      "\n",
      "          0       1.00      0.75      0.86       281\n",
      "          1       0.59      0.62      0.61       160\n",
      "          2       0.47      1.00      0.64        53\n",
      "\n",
      "avg / total       0.81      0.74      0.75       494\n",
      "\n"
     ]
    }
   ],
   "source": [
    "path_dataset = './img_cluster'\n",
    "\n",
    "print('loading data .......')\n",
    "X_train, X_test, Y_train, Y_test = load_data_cnn()\n",
    "\n",
    "print('train examples:')\n",
    "print(len(X_train))\n",
    "print('test examples:')\n",
    "print(len(X_test))\n",
    "\n",
    "print('start .... ')\n",
    "\n",
    "model.fit(X_train, Y_train, batch_size=batch_size, epochs=num_epochs, verbose=2, validation_split=0.1,\n",
    "          callbacks=[TensorBoard(log_dir='./deep/tensorboard/', histogram_freq=1, write_images=True,\n",
    "                                 write_grads=True, embeddings_layer_names=['conv1'], embeddings_freq=1),\n",
    "                     EarlyStopping(monitor='val_loss', min_delta=0.001, patience=2,\n",
    "                                   verbose=1, mode='auto')])\n",
    "\n",
    "# save current model\n",
    "print(\"Saving model\")\n",
    "model.save(path_model+'model.h5', overwrite=True)\n",
    "# evaluete model over test set\n",
    "print(\"Evaluete model\")\n",
    "evaluete_cnn(X_test, Y_test)"
   ]
  },
  {
   "cell_type": "markdown",
   "metadata": {},
   "source": [
    "Analizzando le metriche e la confusion matrix, in questo caso, notiamo un netto miglioramento delle prestazioni, con un'accuratezza del 98%. Anche per gli esempi di classe 1 e classe 2 le performance sono nettamente migliorate. Tutto questo ci porta a concludere che le prestazioni della rete sono fortemente condizionate dal dataset in analisi.\n",
    "\n",
    "Come ultimo passo mostriamo come la rete \"vede\" le immagini che sono le sono state passate. Siamo anche in grado di visualizzare i filtri sia del primo livello convoluzionale che del secondo [4](#cite-DBLP:journals/corr/HendersonR17)."
   ]
  },
  {
   "cell_type": "code",
   "execution_count": 11,
   "metadata": {},
   "outputs": [],
   "source": [
    "def make_mosaic(imgs, nrows, ncols, border=1):\n",
    "    \"\"\"\n",
    "    Given a set of images with all the same shape, makes a\n",
    "    mosaic with nrows and ncols\n",
    "    \"\"\"\n",
    "    nimgs = imgs.shape[0]\n",
    "    imshape = imgs.shape[1:]\n",
    "\n",
    "    mosaic = ma.masked_all((nrows * imshape[0] + (nrows - 1) * border,\n",
    "                            ncols * imshape[1] + (ncols - 1) * border),\n",
    "                           dtype=np.float32)\n",
    "\n",
    "    paddedh = imshape[0] + border\n",
    "    paddedw = imshape[1] + border\n",
    "    for i in range(nimgs):\n",
    "        row = int(np.floor(i / ncols))\n",
    "        col = i % ncols\n",
    "\n",
    "        mosaic[row * paddedh:row * paddedh + imshape[0],\n",
    "        col * paddedw:col * paddedw + imshape[1]] = imgs[i]\n",
    "    return mosaic"
   ]
  },
  {
   "cell_type": "code",
   "execution_count": 12,
   "metadata": {},
   "outputs": [],
   "source": [
    "def nice_imshow(ax, data, vmin=None, vmax=None, cmap=None):\n",
    "    \"\"\"Wrapper around pl.imshow\"\"\"\n",
    "    if cmap is None:\n",
    "        cmap = cm.get_cmap('jet')\n",
    "    if vmin is None:\n",
    "        vmin = data.min()\n",
    "    if vmax is None:\n",
    "        vmax = data.max()\n",
    "    divider = make_axes_locatable(ax)\n",
    "    cax = divider.append_axes(\"right\", size=\"5%\", pad=0.05)\n",
    "    im = ax.imshow(data, vmin=vmin, vmax=vmax, interpolation='nearest', cmap=cmap)\n",
    "    plt.colorbar(im, cax=cax)"
   ]
  },
  {
   "cell_type": "code",
   "execution_count": 13,
   "metadata": {},
   "outputs": [
    {
     "data": {
      "image/png": "[encoded data removed]",
      "text/plain": [
       "<matplotlib.figure.Figure at 0x7fc5801df0f0>"
      ]
     },
     "metadata": {},
     "output_type": "display_data"
    }
   ],
   "source": [
    "i = 500\n",
    "img = np.reshape(X_test[i], [32, 32])\n",
    "\n",
    "plt.figure()\n",
    "plt.title('Img Original 32x32')\n",
    "plt.imshow(img, cmap=cm.get_cmap('binary'))\n",
    "plt.show()"
   ]
  },
  {
   "cell_type": "code",
   "execution_count": 14,
   "metadata": {},
   "outputs": [
    {
     "name": "stderr",
     "output_type": "stream",
     "text": [
      "/home/claudio/Documents/oil_spill/lib/python3.5/site-packages/matplotlib/image.py:383: RuntimeWarning: overflow encountered in true_divide\n",
      "  A_scaled /= ((a_max - a_min) / 0.8)\n"
     ]
    },
    {
     "data": {
      "image/png": "[encoded data removed]",
      "text/plain": [
       "<matplotlib.figure.Figure at 0x7fc58006def0>"
      ]
     },
     "metadata": {},
     "output_type": "display_data"
    }
   ],
   "source": [
    "weight = np.asarray(model.get_weights()[0]).reshape(32, 3, 3)\n",
    "plt.figure()\n",
    "plt.title('32 Conv1 Kernels 3x3')\n",
    "nice_imshow(plt.gca(), make_mosaic(weight, 4, 8), cmap=cm.get_cmap('binary'))\n",
    "plt.show()"
   ]
  },
  {
   "cell_type": "code",
   "execution_count": 15,
   "metadata": {},
   "outputs": [
    {
     "name": "stderr",
     "output_type": "stream",
     "text": [
      "/home/claudio/Documents/oil_spill/lib/python3.5/site-packages/matplotlib/image.py:381: RuntimeWarning: invalid value encountered in subtract\n",
      "  A_scaled -= a_min\n"
     ]
    },
    {
     "data": {
      "image/png": "[encoded data removed]",
      "text/plain": [
       "<matplotlib.figure.Figure at 0x7fc58019e828>"
      ]
     },
     "metadata": {},
     "output_type": "display_data"
    }
   ],
   "source": [
    "conv_imgs = []\n",
    "for i in range(32):\n",
    "    conv_imgs.append(signal.convolve2d(img, weight[i], mode='same'))\n",
    "conv_imgs = np.asarray(conv_imgs)\n",
    "\n",
    "plt.figure()\n",
    "plt.title('Output Conv1 Layer')\n",
    "nice_imshow(plt.gca(), make_mosaic(conv_imgs, 4, 8), cmap=cm.get_cmap('binary'))\n",
    "plt.show()"
   ]
  },
  {
   "cell_type": "code",
   "execution_count": 16,
   "metadata": {},
   "outputs": [
    {
     "data": {
      "image/png": "[encoded data removed]",
      "text/plain": [
       "<matplotlib.figure.Figure at 0x7fc58014c4a8>"
      ]
     },
     "metadata": {},
     "output_type": "display_data"
    }
   ],
   "source": [
    "# maxpooling\n",
    "conv_imgs_pool = []\n",
    "for i in range(32):\n",
    "    conv_imgs_pool.append(skimage.measure.block_reduce(conv_imgs[i], (2, 2), np.max))\n",
    "conv_imgs = np.asarray(conv_imgs_pool)\n",
    "plt.figure()\n",
    "plt.title('Img Reduced 16x16')\n",
    "plt.imshow(conv_imgs[0], cmap=cm.get_cmap('binary'))\n",
    "plt.show()"
   ]
  },
  {
   "cell_type": "code",
   "execution_count": 17,
   "metadata": {},
   "outputs": [
    {
     "data": {
      "image/png": "[encoded data removed]",
      "text/plain": [
       "<matplotlib.figure.Figure at 0x7fc57075a1d0>"
      ]
     },
     "metadata": {},
     "output_type": "display_data"
    }
   ],
   "source": [
    "weight1 = np.asarray(model.get_weights()[2]).reshape(32, 64, 3, 3)\n",
    "plt.figure()\n",
    "plt.title('64 Conv2 Kernels 3x3')\n",
    "nice_imshow(plt.gca(), make_mosaic(weight1[0], 8, 8), cmap=cm.get_cmap('binary'))\n",
    "plt.show()"
   ]
  },
  {
   "cell_type": "code",
   "execution_count": 19,
   "metadata": {},
   "outputs": [
    {
     "name": "stderr",
     "output_type": "stream",
     "text": [
      "/home/claudio/Documents/oil_spill/lib/python3.5/site-packages/matplotlib/image.py:381: RuntimeWarning: invalid value encountered in subtract\n",
      "  A_scaled -= a_min\n",
      "/home/claudio/Documents/oil_spill/lib/python3.5/site-packages/matplotlib/image.py:383: RuntimeWarning: overflow encountered in true_divide\n",
      "  A_scaled /= ((a_max - a_min) / 0.8)\n"
     ]
    },
    {
     "data": {
      "image/png": "[encoded data removed]",
      "text/plain": [
       "<matplotlib.figure.Figure at 0x7fc5707132b0>"
      ]
     },
     "metadata": {},
     "output_type": "display_data"
    }
   ],
   "source": [
    "conv2_imgs = []\n",
    "for i in range(64):\n",
    "    conv2_imgs.append(signal.convolve2d(conv_imgs[0], weight1[0, i], mode='same'))\n",
    "\n",
    "conv2_imgs = np.asarray(conv2_imgs)\n",
    "plt.figure()\n",
    "plt.title('Output Conv2 Layer')\n",
    "nice_imshow(plt.gca(), make_mosaic(conv2_imgs, 8, 8), cmap=cm.get_cmap('binary'))\n",
    "plt.show()"
   ]
  },
  {
   "cell_type": "markdown",
   "metadata": {},
   "source": [
    "##### Considerazioni"
   ]
  },
  {
   "cell_type": "markdown",
   "metadata": {},
   "source": [
    "Dai risultati ottenuti possiamo concludere che, utilizzando il dataset con i _tag_ associati si hanno dei risultati non del tutto confortanti e questo può essere dovuto essenzialmente a :\n",
    "1. la rete non riesce ad apprendere come poter classificare le immagini per rispettare al meglio la classificazione precedente effettuata da un esperto;\n",
    "2. la classificazione effettuata ha errori evidenti che deviano l'apprendimento della rete;\n",
    "3. l'andamento della rete non rassicurante potrebbe essere letto come un indice del grado di inaffidabilità della precedente assegnazione dei _tag_ e quindi restituisce previsioni non congrue. \n",
    "\n",
    "Cambiando topologia di rete e utilizzando una _Deep Convolutional Neural Network_ possiamo osservare che utilizzando il dataset con i medesimi _tag_ del caso numerico i risultati non si discostano di molto da quelli ottenuto dalla _Neural Network_ questo conferma quanto detto in precedenza. \n",
    "Sostituendo il dataset con quello generato attravero una rete _Unsupervised_ si osserva che i risultati ottenuti sono decisamente migliori e congrui con le aspettative. Questo è confortante soprattutto nell'ottica di addestrare una rete atta alla classificazione di tre gradi di pericolosità. Con i dati in nostro possesso si potrebbe realizzare un'architettura di rete con due parti fondamentali:\n",
    "1. la prima parte che possiamo identificare come _pre-classificazione_ è realizzata dalla rete _Unsupervided_ per come noi l'abbiamo ideata e descritta in seguito;\n",
    "2. la seconda parte realizzata da una rete _Convoluzionale_ che ha come input quello stato precedete e che quindi posso al meglio generalizzare l'apprendimenti. \n",
    "\n",
    "Come sarà evidenziato nel _notebook_ sulla rete _Unsupervised_ basarci sulla clusterizzazione effettuata da questa rete non può essere considerato sufficente affincè il sistesma possa essere impiegato nell'ambito pratico. L'utilizzo della rete convoluzionale è strettamente consigliato per raffinare la classificazione in tre classi della macchie di petrolio."
   ]
  },
  {
   "cell_type": "markdown",
   "metadata": {},
   "source": [
    "<!--bibtex\n",
    "\n",
    "@INPROCEEDINGS{7326627, \n",
    "    author={C. Bentes and D. Velotto and S. Lehner}, \n",
    "    booktitle={2015 IEEE International Geoscience and Remote Sensing Symposium (IGARSS)}, \n",
    "    title={Target classification in oceanographic SAR images with deep neural networks: Architecture and initial results}, \n",
    "    year={2015}, \n",
    "    volume={}, \n",
    "    number={}, \n",
    "    pages={3703-3706}, \n",
    "    keywords={image classification;neural nets;object detection;oceanographic techniques;radar imaging;remote sensing by radar;synthetic aperture radar;DNN;Deep Neural Networks;SAR image classification;SAR satellite;back-propagation;deep neural networks;gradient-based training algorithm;hidden layer;human operators;man-made floating structure;ocean surface structure;oceanographic SAR image analysis;oceanographic-object classification;output layer;overall network complexity;remote sensing image;shallow feed-forward neural network;synthetic aperture radar;target classification;Biological neural networks;Convolutional codes;Marine vehicles;Noise reduction;Synthetic aperture radar;Training;Automatic Target Identification;Deep Neural Networks;Machine Learning;SAR Oceanography}, \n",
    "    doi={10.1109/IGARSS.2015.7326627}, \n",
    "    ISSN={2153-6996}, \n",
    "    month={July}\n",
    "}\n",
    "\n",
    "@INPROCEEDINGS{7326163, \n",
    "    author={A. B. Salberg}, \n",
    "    booktitle={2015 IEEE International Geoscience and Remote Sensing Symposium (IGARSS)}, \n",
    "    title={Detection of seals in remote sensing images using features extracted from deep convolutional neural networks}, \n",
    "    year={2015}, \n",
    "    volume={}, \n",
    "    number={}, \n",
    "    pages={1893-1896}, \n",
    "    keywords={feature extraction;geophysical image processing;image classification;neural nets;remote sensing;support vector machines;zoology;ImageNet database;adult harp seal;aerial remote sensing image;automatic seal detection;deep convolutional neural networks;false object detection;feature extraction;linear SVM;object recognition task;seal classification;seal pup;support vector machine;Accuracy;Agriculture;Databases;Feature extraction;Remote sensing;Seals;Support vector machines;Object detection;convolutional neural networks;deep learning;detection of seals}, \n",
    "    doi={10.1109/IGARSS.2015.7326163}, \n",
    "    ISSN={2153-6996}, \n",
    "    month={July}\n",
    "}\n",
    "\n",
    "@article{DBLP:journals/corr/SimonyanZ14a,\n",
    "  author    = {Karen Simonyan and\n",
    "               Andrew Zisserman},\n",
    "  title     = {Very Deep Convolutional Networks for Large-Scale Image Recognition},\n",
    "  journal   = {CoRR},\n",
    "  volume    = {abs/1409.1556},\n",
    "  year      = {2014},\n",
    "  url       = {http://arxiv.org/abs/1409.1556},\n",
    "  archivePrefix = {arXiv},\n",
    "  eprint    = {1409.1556},\n",
    "  timestamp = {Wed, 07 Jun 2017 14:41:51 +0200},\n",
    "  biburl    = {http://dblp.org/rec/bib/journals/corr/SimonyanZ14a},\n",
    "  bibsource = {dblp computer science bibliography, http://dblp.org}\n",
    "}\n",
    "\n",
    "@article{DBLP:journals/corr/HendersonR17,\n",
    "  author    = {Ryan Henderson and\n",
    "               Rasmus Rothe},\n",
    "  title     = {Picasso: {A} Neural Network Visualizer},\n",
    "  journal   = {CoRR},\n",
    "  volume    = {abs/1705.05627},\n",
    "  year      = {2017},\n",
    "  url       = {http://arxiv.org/abs/1705.05627},\n",
    "  archivePrefix = {arXiv},\n",
    "  eprint    = {1705.05627},\n",
    "  timestamp = {Wed, 07 Jun 2017 14:40:57 +0200},\n",
    "  biburl    = {http://dblp.org/rec/bib/journals/corr/HendersonR17},\n",
    "  bibsource = {dblp computer science bibliography, http://dblp.org}\n",
    "}\n",
    "\n",
    "@article{KERAMITSOGLOU2006640,\n",
    "    title = \"Automatic identification of oil spills on satellite images\",\n",
    "    journal = \"Environmental Modelling & Software\",\n",
    "    volume = \"21\",\n",
    "    number = \"5\",\n",
    "    pages = \"640 - 652\",\n",
    "    year = \"2006\",\n",
    "    issn = \"1364-8152\",\n",
    "    doi = \"https://doi.org/10.1016/j.envsoft.2004.11.010\",\n",
    "    url = \"http://www.sciencedirect.com/science/article/pii/S1364815204003275\",\n",
    "    author = \"Iphigenia Keramitsoglou and Constantinos Cartalis and Chris T. Kiranoudis\",\n",
    "    keywords = \"Oil spills, SAR, Remote sensing, Sea surface, Marine pollution, Fuzzy logic\"\n",
    "}\n",
    "\n",
    "@article{DBLP:journals/corr/ClevertUH15,\n",
    "  author    = {Djork-Arné Clevert and\n",
    "               Thomas Unterthiner and\n",
    "               Sepp Hochreiter},\n",
    "  title     = {Fast and Accurate Deep Network Learning by Exponential Linear Units\n",
    "               (ELUs)},\n",
    "  journal   = {CoRR},\n",
    "  volume    = {abs/1511.07289},\n",
    "  year      = {2015},\n",
    "  url       = {http://arxiv.org/abs/1511.07289},\n",
    "  archivePrefix = {arXiv},\n",
    "  eprint    = {1511.07289},\n",
    "  timestamp = {Wed, 07 Jun 2017 14:40:17 +0200},\n",
    "  biburl    = {http://dblp.org/rec/bib/journals/corr/ClevertUH15},\n",
    "  bibsource = {dblp computer science bibliography, http://dblp.org}\n",
    "}\n",
    "\n",
    "@article{DBLP:journals/corr/WongGSM16,\n",
    "  author    = {Sebastien C. Wong and\n",
    "               Adam Gatt and\n",
    "               Victor Stamatescu and\n",
    "               Mark D. McDonnell},\n",
    "  title     = {Understanding data augmentation for classification: when to warp?},\n",
    "  journal   = {CoRR},\n",
    "  volume    = {abs/1609.08764},\n",
    "  year      = {2016},\n",
    "  url       = {http://arxiv.org/abs/1609.08764},\n",
    "  archivePrefix = {arXiv},\n",
    "  eprint    = {1609.08764},\n",
    "  timestamp = {Wed, 07 Jun 2017 14:40:22 +0200},\n",
    "  biburl    = {http://dblp.org/rec/bib/journals/corr/WongGSM16},\n",
    "  bibsource = {dblp computer science bibliography, http://dblp.org}\n",
    "}\n",
    "\n",
    "-->"
   ]
  },
  {
   "cell_type": "markdown",
   "metadata": {},
   "source": [
    "# References\n",
    "\n",
    "<a name=\"cite-dblp:journals/corr/clevertuh15\"/><sup>[^](#ref-1) </sup>Djork-Arné Clevert and\n",
    "               Thomas Unterthiner and\n",
    "               Sepp Hochreiter. 2015. _Fast and Accurate Deep Network Learning by Exponential Linear Units\n",
    "               (ELUs)_. [URL](http://arxiv.org/abs/1511.07289)\n",
    "\n",
    "<a name=\"cite-dblp:journals/corr/wonggsm16\"/><sup>[^](#ref-2) </sup>Sebastien C. Wong and\n",
    "               Adam Gatt and\n",
    "               Victor Stamatescu and\n",
    "               Mark D. McDonnell. 2016. _Understanding data augmentation for classification: when to warp?_. [URL](http://arxiv.org/abs/1609.08764)\n",
    "\n",
    "<a name=\"cite-dblp:journals/corr/simonyanz14a\"/><sup>[^](#ref-3) </sup>Karen Simonyan and\n",
    "               Andrew Zisserman. 2014. _Very Deep Convolutional Networks for Large-Scale Image Recognition_. [URL](http://arxiv.org/abs/1409.1556)\n",
    "\n",
    "<a name=\"cite-7326627\"/><sup>[^](#ref-4) </sup>C. Bentes and D. Velotto and S. Lehner. 2015. _Target classification in oceanographic SAR images with deep neural networks: Architecture and initial results_.\n",
    "\n",
    "<a name=\"cite-7326163\"/><sup>[^](#ref-5) </sup>A. B. Salberg. 2015. _Detection of seals in remote sensing images using features extracted from deep convolutional neural networks_.\n",
    "\n",
    "<a name=\"cite-keramitsoglou2006640\"/><sup>[^](#ref-6) </sup>Iphigenia Keramitsoglou and Constantinos Cartalis and Chris T. Kiranoudis. 2006. _Automatic identification of oil spills on satellite images_. [URL](http://www.sciencedirect.com/science/article/pii/S1364815204003275)\n",
    "\n",
    "<a name=\"cite-dblp:journals/corr/hendersonr17\"/><sup>[^](#ref-7) </sup>Ryan Henderson and\n",
    "               Rasmus Rothe. 2017. _Picasso: A Neural Network Visualizer_. [URL](http://arxiv.org/abs/1705.05627)\n",
    "\n"
   ]
  },
  {
   "cell_type": "code",
   "execution_count": null,
   "metadata": {},
   "outputs": [],
   "source": []
  }
 ],
 "metadata": {
  "kernelspec": {
   "display_name": "Python 3",
   "language": "python",
   "name": "python3"
  },
  "language_info": {
   "codemirror_mode": {
    "name": "ipython",
    "version": 3
   },
   "file_extension": ".py",
   "mimetype": "text/x-python",
   "name": "python",
   "nbconvert_exporter": "python",
   "pygments_lexer": "ipython3",
   "version": "3.5.2"
  }
 },
 "nbformat": 4,
 "nbformat_minor": 1
}

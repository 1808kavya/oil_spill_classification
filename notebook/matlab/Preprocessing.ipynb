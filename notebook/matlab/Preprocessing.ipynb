{
 "cells": [
  {
   "cell_type": "markdown",
   "metadata": {},
   "source": [
    "# Preprocessing Dataset Image\n",
    "\n",
    "La fase di preprocessing, come visto nei casi precedenti, è un passo fondamentale per la manipolazione dei dati che avverà negli step successivi. Il dataset che ci è stato fornito per poter avviare la classificazione attraverso una  _Convolutional Deep Neural Network_ è composto essenzialmente da due file principali per per ogni caso di studio: \n",
    "1. Il file GeoTiff contenente l'immagine satellitare SAR e le informazione di georeferenziazione. \n",
    "2. La TagMask di ogni GeoTiff calcolata per ogni caso di studio.\n",
    "\n",
    "L'input di una rete Convoluzionale deve rispettare determinate caratteristiche dettate da proprietà intrinseche della stessa. Un aspetto cruciale sono le dimensioni delle immagini in input, un dataset per una rete convoluzionale deve essere formato da immagini quadrate con le medesime dimensioni. \n",
    "Le immagini che compongono il nostro dataset non rispettano questo vincolo per i seguenti motivi:\n",
    "1. il dataset è costituito da CaseStudy, ogni CaseStudy è una porzione di immagine rilevata dal satellite, da questo momento chiameremo _\"quarti\"_.\n",
    "2. ogni _quarto_ ha dimensione variabile in numero di pixel e al suo interno ha una o più macchie di petrolio.\n",
    "3. le macchie di petrolio si distinguono principalmente per aspetti geometrici tra i quali forma e area.\n",
    "\n",
    "Il primo passo fondamentale di questa fase di preprocessing è stata quella dell'estrazione delle macchie di petrolio dai singoli _quarti_.\n",
    "\n",
    "Analizziamo ora lo script utilizzato, partiamo con le costanti che riguardano:\n",
    "1. *path\\_geotiff* nome della cartella dove sono memorizzati i file geotiff\n",
    "2. *path\\_mask* nome cartella dove sono memorizzati le TagMask \n",
    "3. *out\\_dir* path del salvataggio\n",
    "4. _class2_ _class3_ e _class4_ sono i nomi delle tre classi inerenti il grado di pericolosità delle macchie di petrolio"
   ]
  },
  {
   "cell_type": "code",
   "execution_count": 15,
   "metadata": {},
   "outputs": [],
   "source": [
    "clear all % pulpizia del workspace\n",
    "\n",
    "patch_geotiff = '/GeoTIFF/';\n",
    "patch_mask = '/OilSpillDetection/';\n",
    "patch_dataset = './dataset/';\n",
    "out_dir = './crop/';\n",
    "class2 = num2str(2);\n",
    "class3 = num2str(3);\n",
    "class4 = num2str(4);\n",
    "\n",
    "own = 32; % dimensione delle immagini di output\n",
    "img_zero= zeros(own, own); % immagine contenente tutti zero con dimesione (own x own)\n",
    "\n",
    "tot_crop = 0; % contatore per il numero di macchine trovate \n",
    "\n",
    "BIN = 1; % costante che definisce se utilizzare la TagMask o il GeoTiff per generare i crop"
   ]
  },
  {
   "cell_type": "markdown",
   "metadata": {},
   "source": [
    "Fatto questo lo script può proseguire verificando se nel percoso di salvataggio è presente una cartella precedetemente generata; se questo si verifica verrà eliminata per far spazio alla nuova generazione."
   ]
  },
  {
   "cell_type": "code",
   "execution_count": 16,
   "metadata": {},
   "outputs": [],
   "source": [
    "if exist(out_dir, 'dir')\n",
    "    rmdir(out_dir, 's');\n",
    "end\n",
    "% creazione della struttura per il salvataggio delle immagini in output\n",
    "mkdir(out_dir);\n",
    "mkdir(strcat(out_dir,class2));\n",
    "mkdir(strcat(out_dir,class3));\n",
    "mkdir(strcat(out_dir,class4));"
   ]
  },
  {
   "cell_type": "markdown",
   "metadata": {},
   "source": [
    "Preparato il path per il savataggio delle OilSpill lo script può analizzare la struttura del dataset di input. L'analisi del dataset parte dalla directory dove è contenuto lo script _./_ ed estrapola l'elenco delle cartelle che rapprensentano i vari _quarti_ precedentemente citati. In *list\\_dir* avremo ora i path da analizzare."
   ]
  },
  {
   "cell_type": "code",
   "execution_count": 17,
   "metadata": {},
   "outputs": [],
   "source": [
    "list_dir = dir(patch_dataset);\n",
    "list_dir = extractfield(list_dir([list_dir.isdir]), 'name');\n",
    "list_dir = list_dir(3:length(list_dir));"
   ]
  },
  {
   "cell_type": "markdown",
   "metadata": {},
   "source": [
    "Di seguito lo script avvia due cicli _for_ incampsulati. Il ciclo _for_ esterno carica per ogni _quarto_ individuato nel dataset, il _geotiff_ e la _TagMask_ che subiranno un primo passaggio di pulizia da eventuali macchine molto piccole; _MinAreaRem_.\n",
    "Terminata questa fase che possiamo considerare globale sul _quarto_ in esame lo script passa al ciclo _for_ interno che analizza ogni singola macchina identificata. \n",
    "Per ottenere immagini consone all'utilizzo in una _Convolutional Neural Network_ lo script per ogni macchina identificata esegue i seguenti fondamentali passaggi:\n",
    "1. crop della macchia dal _quarto_ in esame \n",
    "2. resize del crop mantenendo le stesse proporzioni portando quindi il lato maggiore alla dimensione desiderata\n",
    "3. aggiunta del padding per il lato di dimensione inferiore per rendere l'output quadrato \n",
    "al termine del lo script esegue un'ulteriore verifica prima di poter salvare l'output, cerca se all'interno dell'immagine ci sono aree isolate generate della precedente fase di ritaglio. Se questo si verifica vengono eliminate garantendo che all'interno dell'output ci sia solo una macchina. \n",
    "L'immagine quindi viene salvata nel percorso corrispondente al tag precedentemente letto.\n",
    "Al termine dello script avremo il numero totale di macchie trovate nel dataset. "
   ]
  },
  {
   "cell_type": "code",
   "execution_count": 18,
   "metadata": {},
   "outputs": [
    {
     "name": "stdout",
     "output_type": "stream",
     "text": [
      "CaseStudy_01 Numero Macchie : 110 \n",
      "CaseStudy_02 Numero Macchie : 199 \n",
      "CaseStudy_03 Numero Macchie : 89 \n",
      "CaseStudy_04 Numero Macchie : 132 \n",
      "Totale crop : 530 \n"
     ]
    }
   ],
   "source": [
    "%% AVVIO CICLO FOR ESTERNO PER IL NUMERO DI \"QUARTI\" INDIVIDUATI NEL DATASET\n",
    "\n",
    "for i=1:length(list_dir)\n",
    "\n",
    "    % loading del \"quarto\" selezionato dalla cartella del dataset\n",
    "    geo_file = ls(strcat(patch_dataset,char(list_dir(i)),patch_geotiff));\n",
    "    geo_file = strcat(patch_dataset,char(list_dir(i)),patch_geotiff,'/',geo_file);\n",
    "    geotiff = geotiffread(geo_file);\n",
    "    \n",
    "    mask_file = dir(fullfile(patch_dataset,strcat(char(list_dir(i)),patch_mask),'*tif'));\n",
    "    mask_file = extractfield(mask_file, 'name');\n",
    "    mask_file = strcat(patch_dataset,char(list_dir(i)),patch_mask,'/',mask_file);\n",
    "    TagMask = imread(char(mask_file));\n",
    "    \n",
    "    % avvio fase di pulizia e idetificazione delle macchie di petrolio\n",
    "    \n",
    "    MinAreaRem=3*150; % definizione area minima della macchia\n",
    "    \n",
    "    Isent = geotiff(:,:,1); % primo livello radiometrico del geotiff\n",
    "    I=Isent;\n",
    "    Inan=find(isnan(I));\n",
    "    I(Inan)=0;\n",
    "    \n",
    "    ind_tag=find(TagMask>=2); % dalla TagMask copiamo le area con indice superiore o pari a 2 \n",
    "    SlickMask=zeros(size(TagMask));\n",
    "    Mask_tag = zeros(size(TagMask));\n",
    "    SlickMask(ind_tag)=1;\n",
    "    Mask_tag(ind_tag) = TagMask(ind_tag);\n",
    "    \n",
    "    Mask=bwareaopen(SlickMask,MinAreaRem); % eliminazione delle aree inferiori a MinAreaRem\n",
    "    \n",
    "    [II_Lab nL]= bwlabel(Mask); \n",
    "    \n",
    "    STATS = regionprops(II_Lab,I,'BoundingBox'); % regioprops restituisce in STATS il numero di macchie \n",
    "                                                 % con le coordinate del BoundingBox\n",
    "    \n",
    "    fprintf('%s Numero Macchie : %d \\n',string(list_dir(i)), length(STATS));\n",
    "    \n",
    "    tot_crop = tot_crop + length(STATS);\n",
    "\n",
    "    %% AVVIO CICLO FOR INTERNO PER OGNI MACCHINA INDIVIDUATA NEL QUARTO \n",
    "    \n",
    "    for j=1:length(STATS)\n",
    "        \n",
    "        % carico il crop dal geotiff \n",
    "        tiff_crop = imcrop(I,STATS(j).BoundingBox);\n",
    "        % carico il crop dalla TagMask\n",
    "        mask_crop = imcrop(TagMask,STATS(j).BoundingBox);\n",
    "        \n",
    "        % identifico il tag di quella macchina \n",
    "        tag = max(max(mask_crop));\n",
    "        \n",
    "        if BIN == 1 \n",
    "            idx = find(mask_crop > 1);\n",
    "            geo_crop = zeros(size(mask_crop));\n",
    "            geo_crop(idx) = 1;\n",
    "        else \n",
    "            geo_crop = tiff_crop;\n",
    "        end\n",
    "        \n",
    "        [m,n] = size(geo_crop); % dimensione del crop\n",
    "        K_pad = img_zero;\n",
    "        \n",
    "        % avvio fase di resize del crop in base al lato maggiore. viene aggiunto il padding al lato inferiore. \n",
    "        if m > n\n",
    "            a = imresize(geo_crop,[own NaN]);\n",
    "            k = abs(own-size(a,2));\n",
    "            K_pad(1:own,ceil(k/2)+1:ceil(k/2)+size(a,2)) = a(:,:);\n",
    "        else\n",
    "            a = imresize(geo_crop,[NaN own]);\n",
    "            k = abs(own-size(a,1));\n",
    "            K_pad(ceil(k/2)+1: ceil(k/2)+size(a,1),1:own) = a(:,:);\n",
    "        end\n",
    "       \n",
    "        % K_pad=bwareaopen(K_pad,5);\n",
    "        [Lab nL2]= bwlabel(K_pad);\n",
    "        \n",
    "        % ulteriore pulizia del crop appena genrato da eventuali macchine non intere dovute al taglio dal \"quarto\"\n",
    "        aree = regionprops(K_pad, 'Area', 'BoundingBox');\n",
    "        \n",
    "        if (nL2 > 1 )\n",
    "            for k=2:length(aree)\n",
    "                BB = aree(k).BoundingBox;\n",
    "                x1 = ceil(BB(1));\n",
    "                x2 = round(x1 + BB(3));\n",
    "                y1 = ceil(BB(2));\n",
    "                y2 = round(y1 + BB(4));\n",
    "                K_pad(y1:y2, x1:x2) = 0;\n",
    "            end\n",
    "        end\n",
    "\n",
    "        out_file = strcat(out_dir,num2str(tag),'/crop_',num2str(tag),'_',num2str(i),num2str(j),'.png');\n",
    "        imwrite(K_pad,out_file);\n",
    "    end\n",
    "end\n",
    "\n",
    "fprintf('Totale crop : %d \\n', tot_crop); % numero totale delle macchine trovate nel dataset "
   ]
  }
 ],
 "metadata": {
  "kernelspec": {
   "display_name": "Matlab",
   "language": "matlab",
   "name": "matlab"
  },
  "language_info": {
   "codemirror_mode": "octave",
   "file_extension": ".m",
   "help_links": [
    {
     "text": "MetaKernel Magics",
     "url": "https://github.com/calysto/metakernel/blob/master/metakernel/magics/README.md"
    }
   ],
   "mimetype": "text/x-octave",
   "name": "matlab",
   "version": "0.15.0"
  }
 },
 "nbformat": 4,
 "nbformat_minor": 2
}

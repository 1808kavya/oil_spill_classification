{
 "cells": [
  {
   "cell_type": "markdown",
   "metadata": {},
   "source": [
    "# Fuzzy Logic\n",
    "\n",
    "Nel campo dell'insiemistica e della logica classica o booleana, particolare rilievo assume la Fuzzy Logic. Essa si distingue dalla logica classica perchè è possibile attribuire il grado di appartenenza di un dato ad uno o più insiemi, con valori compresi tra 0 e 1. La logica Fuzzy permette di realizzare insiemi con delle soglie sfocate.\n",
    "\n",
    "Il flusso di informazioni nel modello Fuzzy richiede che le variabili in input passino attraverso tre processi \n",
    " - _Fuzzification_ : gli input del sistema sono scomposti in uno o più Fuzzy set; in questo modo vengono prodotti una serie di ingressi per la Fuzzy.\n",
    " - _Fuzzy inference_ : in seguito alla fuzzification, vengono create un set di regole usate per processare gli input e produrre gli output per la Fuzzy.\n",
    " - _Defuzzification_ : in questo processo, l'output è stimato utilizzando gli output del set Fuzzy. L'output è il risultato della media dei pesi di tutte le regole Fuzzy nel modello logico Fuzzy.\n",
    " \n",
    " ![Fuzzy Model](./img/FuzzyModel.png)\n",
    "    \n",
    "In questo studio utilizzeremo il modello Fuzzy Mamdani, già utilizzato in altri lavori riguardanti l'identificazione delle oil spill."
   ]
  },
  {
   "cell_type": "markdown",
   "metadata": {},
   "source": [
    "## Preprocessing\n",
    "\n",
    "Il dataset a nostra disposizione è composto da 31 features riguardanti sia gli aspetti morfologici, sia gli aspetti radiometrici. Il nostro scopo è quello di utilizzare le features usate in letteratura per ottenere come risultato una classificazione ternaria, a differenza della classificazone binaria ottenuta nello studio di riferimento.\n",
    "A questo punto avremo bisogno di altre due features: il FF(form factor) e il RBSDO(ratio between average backscattering and its standard deviation outside the area).\n",
    "\n",
    "Prima di utilizzare le features, normalizzeremo tutto il nostro dataset utilizzando l'algoritmo Z-score, definito come:\n",
    "\n",
    "\\begin{equation}\n",
    "\\frac {Valore\\_da\\_normalizzare - Valore\\_medio\\_della\\_feature}{Deviazione\\_standard\\_della\\_feature}\n",
    "\\end{equation}\n",
    "\n",
    "A questo punto, per la modellazione della logica Fuzzy, abbiamo bisogno dei seguenti valori per ogni singola classe:\n",
    "- _Massimi e minimi_ - definiscono il range di appartenenza.\n",
    "- _Media_ - definisce il grado di appartenenza.\n",
    "Questi valori verranno calcolati per ogni singola feature appartenente ad una determinata classe.\n",
    "Per modellare la Fuzzy verrà utilizzato il toolbox Fuzzy Logic Designer di **MATLAB**.\n",
    "\n",
    "Per quanto riguarda le regole utilizzate, utilizzeremo solo le 3 regole principali:\n",
    " - If (**feature1 is feature1class2**) and (**feature2 is feature2class2**) and (**feature3 is feature3class2**) and (**feature4 is feature4class2**) and (**feature5 is feature5class2**) then (**output is CLASSE 2**);\n",
    " - If (**feature1 is feature1class3**) and (**feature2 is feature2class3**) and (**feature3 is feature3class3**) and (**feature4 is feature4class3**) and (**feature5 is feature5class3**) then (**output is CLASSE 3**);\n",
    " - If (**feature1 is feature1class4**) and (**feature2 is feature2class4**) and (**feature3 is feature3class4**) and (**feature4 is feature4class4**) and (**feature5 is feature5class4**) then (**output is CLASSE 4**);"
   ]
  },
  {
   "cell_type": "markdown",
   "metadata": {},
   "source": [
    "## Test\n",
    "\n",
    "Andremo ad implementare la logica Fuzzy seguendo queste tre fasi:\n",
    "- _Fuzzification_ : questo processo è usato per determinare il grado di verità di ogni singola regola, dove le funzioni triangolari sono definite per ogni input.\n",
    "- _Inference_ : durante il processo di inferenza, definiamo l'assegnamento degli output del set Fuzzy per ogni regola. Nel nostro caso utilizziamo la tecnica dell'inferenza min-max. La combinazione degli output Fuzzy sono costruiti dalla combinazione dei risultati di tutte le regole.\n",
    "- _Defuzzification_ : l'output finale del nostro modello Fuzzy è la probabilità che un elemento appartenga ad una determinata classe. Quindi l'output deve essere defuzzificato.\n"
   ]
  },
  {
   "cell_type": "markdown",
   "metadata": {},
   "source": [
    "### Istruzioni Main\n",
    "\n",
    " Per poter utilizzare questi script, la matrice dovrà essere ordinata in questo modo:\n",
    "\n",
    "  - 1° Colonna - _Complexity_;\n",
    "   ![Complexity](./img/Complexity.png)\n",
    "  - 2° Colonna - _Form Factor (FF)_;\n",
    "   ![Form Factor](./img/FF.png)\n",
    "  - 3° Colonna - _Radio between average backscattering and its standard deviation outside the area(RBSDO)_;\n",
    "   ![RBSDO](./img/RBSDO.png)\n",
    "  - 4° Colonna - _GLCM2 TXT Stat Matrix Energy_;\n",
    "   ![Energy](./img/Energy.png)\n",
    "  - 5° Colonna - _TXT Stat Matrix Entropy_.\n",
    "   ![Entropy](./img/Entropy.png)\n",
    "\n",
    "\n",
    "Dopo aver ordinato la matrice, utilizzare l'algoritmo di normalizzazione zscore per normalizzare i dati.\n",
    "A questo punto bisogna salvare la matrice degli input e avviare lo script.\n",
    "\n",
    "Come file di esempio noi utilizzeremo la matrice Main5FeatureNorm.mat."
   ]
  },
  {
   "cell_type": "markdown",
   "metadata": {},
   "source": [
    "### Test 1\n",
    "\n",
    "Per il primo test saranno utilizzate soltanto due classi: la CLASSE 2 e la CLASSE 4.\n",
    "\n",
    "Come visto in letteratura, le 5 main features utilizzare oil spill sono:\n",
    "\n",
    "  - 1° Colonna - _Complexity_;\n",
    "  - 2° Colonna - _Form Factor (FF)_;\n",
    "  - 3° Colonna - _Radio between average backscattering and its standard deviation outside the area(RBSDO)_;\n",
    "  - 4° Colonna - _GLCM2 TXT Stat Matrix Energy_;\n",
    "  - 5° Colonna - _TXT Stat Matrix Entropy_.\n",
    "  \n",
    "Utilizzando queste features i risultati da noi ottenuti risultano in contrasto con quelli dell'esperto. Infatti molti elementi vengono classificati di classe 3.\n",
    "\n",
    "Con valori di appartenenza compresi tra:\n",
    "\n",
    "- 2 e 2.6, considereremo l'elemento una oil spill di CLASSE 2;\n",
    "- 2.6 e 3.4, considereremo l'elemento una oil spill di CLASSE 3;\n",
    "- 3.4 e 4 considereremo l'elemento una oil spill di CLASSE 4."
   ]
  },
  {
   "cell_type": "code",
   "execution_count": 2,
   "metadata": {},
   "outputs": [
    {
     "name": "stderr",
     "output_type": "stream",
     "text": [
      "\u001b[0;31mError using importdata (line 137)\n",
      "Unable to open file.\n",
      "\n",
      "\u001b[0m"
     ]
    }
   ],
   "source": [
    "% Caricamento matrice delle features\n",
    "Features=importdata('Main5FeatureNorm.mat');\n",
    "% Caricamento fuzzy logic\n",
    "f=readfis('FuzzyTest1.fis');\n",
    "\n",
    "% Facoltativo: Esclusione dei Tag \n",
    "A=double(Features(:,1:5));\n",
    "\n",
    "% Risultato della fuzzy\n",
    "Result=evalfis(A,f);"
   ]
  },
  {
   "cell_type": "code",
   "execution_count": 3,
   "metadata": {},
   "outputs": [
    {
     "name": "stderr",
     "output_type": "stream",
     "text": [
      "\u001b[0;31mError using eval\n",
      "Undefined function or variable 'Result'.\n",
      "\n",
      "\u001b[0m"
     ]
    }
   ],
   "source": [
    "% Istogramma dei risultati\n",
    "hist(Result);"
   ]
  },
  {
   "cell_type": "markdown",
   "metadata": {},
   "source": [
    "### Test 2\n",
    "\n",
    "Anche nel secondo test verranno utilizzate le 5 features caratterizzati. In letteratura queste features hanno prodotto buoni risultati (probabilità di appartenenza intorno al 80%) nel processo di distinzione tra oil spill e look-alike.\n",
    "\n",
    "Modellando la Fuzzy nello stesso modo del test precedente, ma restituendo come output il grado di appartenenza (valore compreso tra 0 e 1) degli elementi a ciascuna classe, si evince che tutti gli elementi hanno gradi di appartenenza in un intervallo compreso tra 0.5 e 0.68.\n",
    "In questo caso non è possibile confrontare direttamente i risultati ottenuti con la classificazione dell'esperto, ma è importante notare come la maggior parte degli elementi risulta di bassa appartenenza alla CLASSE 4 ed invece pochi elementi risultano di bassa appartenenza alla CLASSE 2, in concordo con quanto visto nella classificazione."
   ]
  },
  {
   "cell_type": "code",
   "execution_count": 4,
   "metadata": {},
   "outputs": [
    {
     "name": "stderr",
     "output_type": "stream",
     "text": [
      "\u001b[0;31mError using importdata (line 137)\n",
      "Unable to open file.\n",
      "\n",
      "\u001b[0m"
     ]
    }
   ],
   "source": [
    "% Caricamento matrice delle features + Tag\n",
    "Features=importdata('Main5FeatureNorm.mat');\n",
    "% Caricamento fuzzy logic\n",
    "f=readfis('FuzzyTest2.fis');\n",
    "\n",
    "% Facoltativo: Esclusione dei Tag \n",
    "A=double(Features(:,1:5));\n",
    "\n",
    "% Risultato della fuzzy\n",
    "Result=evalfis(A,f);"
   ]
  },
  {
   "cell_type": "code",
   "execution_count": 5,
   "metadata": {},
   "outputs": [
    {
     "name": "stderr",
     "output_type": "stream",
     "text": [
      "\u001b[0;31mError using eval\n",
      "Undefined function or variable 'Result'.\n",
      "\n",
      "\u001b[0m"
     ]
    }
   ],
   "source": [
    "% Istogramma dei risultati\n",
    "hist(Result);\n",
    "legend('CLASSE 2','CLASSE 3', 'CLASSE 4');"
   ]
  },
  {
   "cell_type": "markdown",
   "metadata": {},
   "source": [
    "### Conclusioni\n",
    "\n",
    "Utilizzando il dataset a nostra disposizione abbiamo notato che i range di appartenenza delle varie classi e le loro medie, sono molto vicine tra loro.\n",
    "Questa caratteristica ci ha portato ad avere dei pessimi risultati.\n",
    "Il secondo test, nonostante utilizzi gli stessi input e le stesse regole del primo test, restituisce risultati migliori indicando il grado di appartenenza a ciascuna classe.\n",
    "Purtroppo, anche utilizzando questo secondo metodo, non è stato possibile classificare le oil spill utilizzando la logica Fuzzy. \n",
    "Queste conclusioni vengono rafforzate anche dai risultati ottenuti dagli altri studi sull'identificazione delle oil spill mediante l'uso delle logiche Fuzzy. Infatti in letteratura, per indicare la probabilità con cui un elemento può essere considerato una oil spill oppure un look-alike, si utilizza un valore percentuale."
   ]
  }
 ],
 "metadata": {
  "kernelspec": {
   "display_name": "Matlab",
   "language": "matlab",
   "name": "matlab"
  },
  "language_info": {
   "codemirror_mode": "octave",
   "file_extension": ".m",
   "help_links": [
    {
     "text": "MetaKernel Magics",
     "url": "https://github.com/calysto/metakernel/blob/master/metakernel/magics/README.md"
    }
   ],
   "mimetype": "text/x-octave",
   "name": "matlab",
   "version": "0.15.0"
  }
 },
 "nbformat": 4,
 "nbformat_minor": 2
}
